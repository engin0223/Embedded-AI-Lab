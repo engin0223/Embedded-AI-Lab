{
 "cells": [
  {
   "cell_type": "markdown",
   "metadata": {},
   "source": [
    "# Introduction to prunning\n"
   ]
  },
  {
   "cell_type": "markdown",
   "metadata": {},
   "source": [
    "Prunning is a set of technics that allow for network size reduction.\n",
    "\n",
    "The basic apprach is based on weights values and remove connections with small weights.\n",
    "\n",
    "There is many different aproaches to prunning for example:\n",
    "\n",
    "    1) statical weights analysis to check importance of input channel,\n",
    "\n",
    "    2) statical weights analysis to check filters simmilarity,\n",
    "\n",
    "    3) prunning by trainable parameters as channels importance levels.\n",
    "\n",
    "This tutorial presents second approach."
   ]
  },
  {
   "cell_type": "code",
   "execution_count": 1,
   "metadata": {},
   "outputs": [
    {
     "name": "stdout",
     "output_type": "stream",
     "text": [
      "mkdir: cannot create directory ‘data’: File exists\n"
     ]
    }
   ],
   "source": [
    "!mkdir data"
   ]
  },
  {
   "cell_type": "code",
   "execution_count": 1,
   "metadata": {},
   "outputs": [
    {
     "name": "stdout",
     "output_type": "stream",
     "text": [
      "cuda\n"
     ]
    }
   ],
   "source": [
    "import torch\n",
    "from torchvision import datasets\n",
    "from torch.utils.data import DataLoader\n",
    "from torch import nn\n",
    "from torch import optim\n",
    "import numpy as np\n",
    "import matplotlib.pyplot as plt\n",
    "import random\n",
    "from typing import List, Tuple\n",
    "\n",
    "# local_utils file contains util functions for training or display\n",
    "# CHECK IT\n",
    "import local_utils as lu\n",
    "\n",
    "device = torch.device('cuda') if torch.cuda.is_available() else torch.device('cpu')\n",
    "print(device)\n",
    "\n",
    "def set_random_seed(seed:int = 0):\n",
    "    torch.manual_seed(seed)\n",
    "    np.random.seed(seed)\n",
    "    random.seed(seed)\n",
    "    "
   ]
  },
  {
   "cell_type": "markdown",
   "metadata": {},
   "source": [
    "Datasets"
   ]
  },
  {
   "cell_type": "code",
   "execution_count": 2,
   "metadata": {},
   "outputs": [
    {
     "name": "stdout",
     "output_type": "stream",
     "text": [
      "len(train_loader) = 938\n",
      "len(test_loader) = 157\n",
      "torch.Size([64, 1, 28, 28])\n",
      "torch.Size([64])\n"
     ]
    },
    {
     "data": {
      "text/plain": [
       "<Figure size 432x288 with 0 Axes>"
      ]
     },
     "metadata": {},
     "output_type": "display_data"
    },
    {
     "data": {
      "image/png": "[encoded data removed]",
      "text/plain": [
       "<Figure size 2304x288 with 8 Axes>"
      ]
     },
     "metadata": {
      "needs_background": "light"
     },
     "output_type": "display_data"
    }
   ],
   "source": [
    "from torchvision.transforms import ToTensor\n",
    "\n",
    "BATCH_SIZE = 64\n",
    "set_random_seed(0)\n",
    "\n",
    "train_dataset = datasets.MNIST('data', \n",
    "                              train=True,\n",
    "                              download=True,\n",
    "                              transform=ToTensor())\n",
    "test_dataset = datasets.MNIST('data', \n",
    "                              train=False,\n",
    "                              download=True,\n",
    "                              transform=ToTensor())\n",
    "\n",
    "train_loader = DataLoader(train_dataset, \n",
    "                          batch_size=BATCH_SIZE,\n",
    "                          shuffle=False)\n",
    "test_loader = DataLoader(test_dataset, \n",
    "                          batch_size=BATCH_SIZE,\n",
    "                          shuffle=False)\n",
    "\n",
    "print(\"len(train_loader) =\", len(train_loader))\n",
    "print(\"len(test_loader) =\", len(test_loader))\n",
    "\n",
    "plt.gray()\n",
    "loader = train_loader\n",
    "for X, y in loader:\n",
    "    print(X.shape)\n",
    "    print(y.shape)\n",
    "    \n",
    "    ROWS, COLS = 1, 8\n",
    "    fig, axs = plt.subplots(ROWS, COLS)\n",
    "    fig.set_size_inches(COLS*4,ROWS*4)\n",
    "    axs = np.array(axs).flatten().tolist()\n",
    "    \n",
    "    for i, ax in enumerate(axs):\n",
    "        img = X[i,...]\n",
    "        class_label = loader.dataset.classes[y[i]]\n",
    "        ax.imshow(img.permute(1,2,0))\n",
    "    plt.show()\n",
    "            \n",
    "    break\n",
    "        "
   ]
  },
  {
   "cell_type": "markdown",
   "metadata": {},
   "source": [
    "Network definition and training"
   ]
  },
  {
   "cell_type": "code",
   "execution_count": 3,
   "metadata": {},
   "outputs": [
    {
     "name": "stdout",
     "output_type": "stream",
     "text": [
      "Network paramerters number: 1863690\n",
      "Epoch 1 / 30: STARTED\n",
      "TRAINING"
     ]
    },
    {
     "name": "stderr",
     "output_type": "stream",
     "text": [
      "938it [00:03, 267.90it/s]\n"
     ]
    },
    {
     "name": "stdout",
     "output_type": "stream",
     "text": [
      "VALIDATION"
     ]
    },
    {
     "name": "stderr",
     "output_type": "stream",
     "text": [
      "157it [00:00, 271.27it/s]\n"
     ]
    },
    {
     "name": "stdout",
     "output_type": "stream",
     "text": [
      "After epoch 1: loss=2.3015 acc=0.1121 val_loss=2.2980 val_acc=0.1028\n",
      "Epoch 1 / 30: FINISHED\n",
      "\n",
      "Epoch 2 / 30: STARTED\n",
      "TRAINING"
     ]
    },
    {
     "name": "stderr",
     "output_type": "stream",
     "text": [
      "938it [00:03, 270.56it/s]\n"
     ]
    },
    {
     "name": "stdout",
     "output_type": "stream",
     "text": [
      "VALIDATION"
     ]
    },
    {
     "name": "stderr",
     "output_type": "stream",
     "text": [
      "157it [00:00, 271.64it/s]\n"
     ]
    },
    {
     "name": "stdout",
     "output_type": "stream",
     "text": [
      "After epoch 2: loss=2.2918 acc=0.1305 val_loss=2.2703 val_acc=0.1518\n",
      "Epoch 2 / 30: FINISHED\n",
      "\n",
      "Epoch 3 / 30: STARTED\n",
      "TRAINING"
     ]
    },
    {
     "name": "stderr",
     "output_type": "stream",
     "text": [
      "938it [00:03, 266.81it/s]\n"
     ]
    },
    {
     "name": "stdout",
     "output_type": "stream",
     "text": [
      "VALIDATION"
     ]
    },
    {
     "name": "stderr",
     "output_type": "stream",
     "text": [
      "157it [00:00, 250.97it/s]\n"
     ]
    },
    {
     "name": "stdout",
     "output_type": "stream",
     "text": [
      "After epoch 3: loss=2.1816 acc=0.3143 val_loss=2.0202 val_acc=0.5422\n",
      "Epoch 3 / 30: FINISHED\n",
      "\n",
      "Epoch 4 / 30: STARTED\n",
      "TRAINING"
     ]
    },
    {
     "name": "stderr",
     "output_type": "stream",
     "text": [
      "938it [00:03, 260.09it/s]\n"
     ]
    },
    {
     "name": "stdout",
     "output_type": "stream",
     "text": [
      "VALIDATION"
     ]
    },
    {
     "name": "stderr",
     "output_type": "stream",
     "text": [
      "157it [00:00, 264.01it/s]\n"
     ]
    },
    {
     "name": "stdout",
     "output_type": "stream",
     "text": [
      "After epoch 4: loss=1.9086 acc=0.5997 val_loss=1.8296 val_acc=0.6432\n",
      "Epoch 4 / 30: FINISHED\n",
      "\n",
      "Epoch 5 / 30: STARTED\n",
      "TRAINING"
     ]
    },
    {
     "name": "stderr",
     "output_type": "stream",
     "text": [
      "938it [00:03, 264.68it/s]\n"
     ]
    },
    {
     "name": "stdout",
     "output_type": "stream",
     "text": [
      "VALIDATION"
     ]
    },
    {
     "name": "stderr",
     "output_type": "stream",
     "text": [
      "157it [00:00, 268.44it/s]\n"
     ]
    },
    {
     "name": "stdout",
     "output_type": "stream",
     "text": [
      "After epoch 5: loss=1.8016 acc=0.6373 val_loss=1.7772 val_acc=0.6521\n",
      "Epoch 5 / 30: FINISHED\n",
      "\n",
      "Epoch 6 / 30: STARTED\n",
      "TRAINING"
     ]
    },
    {
     "name": "stderr",
     "output_type": "stream",
     "text": [
      "938it [00:03, 278.05it/s]\n"
     ]
    },
    {
     "name": "stdout",
     "output_type": "stream",
     "text": [
      "VALIDATION"
     ]
    },
    {
     "name": "stderr",
     "output_type": "stream",
     "text": [
      "157it [00:00, 268.22it/s]\n"
     ]
    },
    {
     "name": "stdout",
     "output_type": "stream",
     "text": [
      "After epoch 6: loss=1.7637 acc=0.6483 val_loss=1.7495 val_acc=0.6573\n",
      "Epoch 6 / 30: FINISHED\n",
      "\n",
      "Epoch 7 / 30: STARTED\n",
      "TRAINING"
     ]
    },
    {
     "name": "stderr",
     "output_type": "stream",
     "text": [
      "938it [00:03, 266.27it/s]\n"
     ]
    },
    {
     "name": "stdout",
     "output_type": "stream",
     "text": [
      "VALIDATION"
     ]
    },
    {
     "name": "stderr",
     "output_type": "stream",
     "text": [
      "157it [00:00, 270.29it/s]\n"
     ]
    },
    {
     "name": "stdout",
     "output_type": "stream",
     "text": [
      "After epoch 7: loss=1.7388 acc=0.6525 val_loss=1.7271 val_acc=0.6595\n",
      "Epoch 7 / 30: FINISHED\n",
      "\n",
      "Epoch 8 / 30: STARTED\n",
      "TRAINING"
     ]
    },
    {
     "name": "stderr",
     "output_type": "stream",
     "text": [
      "938it [00:03, 260.50it/s]\n"
     ]
    },
    {
     "name": "stdout",
     "output_type": "stream",
     "text": [
      "VALIDATION"
     ]
    },
    {
     "name": "stderr",
     "output_type": "stream",
     "text": [
      "157it [00:00, 262.26it/s]\n"
     ]
    },
    {
     "name": "stdout",
     "output_type": "stream",
     "text": [
      "After epoch 8: loss=1.7186 acc=0.6523 val_loss=1.7081 val_acc=0.6618\n",
      "Epoch 8 / 30: FINISHED\n",
      "\n",
      "Epoch 9 / 30: STARTED\n",
      "TRAINING"
     ]
    },
    {
     "name": "stderr",
     "output_type": "stream",
     "text": [
      "938it [00:03, 264.58it/s]\n"
     ]
    },
    {
     "name": "stdout",
     "output_type": "stream",
     "text": [
      "VALIDATION"
     ]
    },
    {
     "name": "stderr",
     "output_type": "stream",
     "text": [
      "157it [00:00, 271.00it/s]\n"
     ]
    },
    {
     "name": "stdout",
     "output_type": "stream",
     "text": [
      "After epoch 9: loss=1.7016 acc=0.6601 val_loss=1.6919 val_acc=0.6752\n",
      "Epoch 9 / 30: FINISHED\n",
      "\n",
      "Epoch 10 / 30: STARTED\n",
      "TRAINING"
     ]
    },
    {
     "name": "stderr",
     "output_type": "stream",
     "text": [
      "938it [00:03, 262.12it/s]\n"
     ]
    },
    {
     "name": "stdout",
     "output_type": "stream",
     "text": [
      "VALIDATION"
     ]
    },
    {
     "name": "stderr",
     "output_type": "stream",
     "text": [
      "157it [00:00, 267.44it/s]\n"
     ]
    },
    {
     "name": "stdout",
     "output_type": "stream",
     "text": [
      "After epoch 10: loss=1.6856 acc=0.6872 val_loss=1.6747 val_acc=0.7115\n",
      "Epoch 10 / 30: FINISHED\n",
      "\n",
      "Epoch 11 / 30: STARTED\n",
      "TRAINING"
     ]
    },
    {
     "name": "stderr",
     "output_type": "stream",
     "text": [
      "938it [00:03, 259.74it/s]\n"
     ]
    },
    {
     "name": "stdout",
     "output_type": "stream",
     "text": [
      "VALIDATION"
     ]
    },
    {
     "name": "stderr",
     "output_type": "stream",
     "text": [
      "157it [00:00, 269.85it/s]\n"
     ]
    },
    {
     "name": "stdout",
     "output_type": "stream",
     "text": [
      "After epoch 11: loss=1.6684 acc=0.7330 val_loss=1.6573 val_acc=0.7527\n",
      "Epoch 11 / 30: FINISHED\n",
      "\n",
      "Epoch 12 / 30: STARTED\n",
      "TRAINING"
     ]
    },
    {
     "name": "stderr",
     "output_type": "stream",
     "text": [
      "938it [00:03, 260.77it/s]\n"
     ]
    },
    {
     "name": "stdout",
     "output_type": "stream",
     "text": [
      "VALIDATION"
     ]
    },
    {
     "name": "stderr",
     "output_type": "stream",
     "text": [
      "157it [00:00, 266.94it/s]\n"
     ]
    },
    {
     "name": "stdout",
     "output_type": "stream",
     "text": [
      "After epoch 12: loss=1.6539 acc=0.7662 val_loss=1.6446 val_acc=0.7756\n",
      "Epoch 12 / 30: FINISHED\n",
      "\n",
      "Epoch 13 / 30: STARTED\n",
      "TRAINING"
     ]
    },
    {
     "name": "stderr",
     "output_type": "stream",
     "text": [
      "938it [00:03, 265.09it/s]\n"
     ]
    },
    {
     "name": "stdout",
     "output_type": "stream",
     "text": [
      "VALIDATION"
     ]
    },
    {
     "name": "stderr",
     "output_type": "stream",
     "text": [
      "157it [00:00, 265.25it/s]\n"
     ]
    },
    {
     "name": "stdout",
     "output_type": "stream",
     "text": [
      "After epoch 13: loss=1.6438 acc=0.7870 val_loss=1.6353 val_acc=0.7903\n",
      "Epoch 13 / 30: FINISHED\n",
      "\n",
      "Epoch 14 / 30: STARTED\n",
      "TRAINING"
     ]
    },
    {
     "name": "stderr",
     "output_type": "stream",
     "text": [
      "938it [00:03, 260.53it/s]\n"
     ]
    },
    {
     "name": "stdout",
     "output_type": "stream",
     "text": [
      "VALIDATION"
     ]
    },
    {
     "name": "stderr",
     "output_type": "stream",
     "text": [
      "157it [00:00, 265.30it/s]\n"
     ]
    },
    {
     "name": "stdout",
     "output_type": "stream",
     "text": [
      "After epoch 14: loss=1.6356 acc=0.8029 val_loss=1.6271 val_acc=0.7993\n",
      "Epoch 14 / 30: FINISHED\n",
      "\n",
      "Epoch 15 / 30: STARTED\n",
      "TRAINING"
     ]
    },
    {
     "name": "stderr",
     "output_type": "stream",
     "text": [
      "938it [00:03, 264.01it/s]\n"
     ]
    },
    {
     "name": "stdout",
     "output_type": "stream",
     "text": [
      "VALIDATION"
     ]
    },
    {
     "name": "stderr",
     "output_type": "stream",
     "text": [
      "157it [00:00, 270.07it/s]\n"
     ]
    },
    {
     "name": "stdout",
     "output_type": "stream",
     "text": [
      "After epoch 15: loss=1.6279 acc=0.8129 val_loss=1.6189 val_acc=0.8045\n",
      "Epoch 15 / 30: FINISHED\n",
      "\n",
      "Epoch 16 / 30: STARTED\n",
      "TRAINING"
     ]
    },
    {
     "name": "stderr",
     "output_type": "stream",
     "text": [
      "938it [00:03, 275.76it/s]\n"
     ]
    },
    {
     "name": "stdout",
     "output_type": "stream",
     "text": [
      "VALIDATION"
     ]
    },
    {
     "name": "stderr",
     "output_type": "stream",
     "text": [
      "157it [00:00, 274.17it/s]\n"
     ]
    },
    {
     "name": "stdout",
     "output_type": "stream",
     "text": [
      "After epoch 16: loss=1.6204 acc=0.8160 val_loss=1.6118 val_acc=0.8043\n",
      "Epoch 16 / 30: FINISHED\n",
      "\n",
      "Epoch 17 / 30: STARTED\n",
      "TRAINING"
     ]
    },
    {
     "name": "stderr",
     "output_type": "stream",
     "text": [
      "938it [00:03, 270.56it/s]\n"
     ]
    },
    {
     "name": "stdout",
     "output_type": "stream",
     "text": [
      "VALIDATION"
     ]
    },
    {
     "name": "stderr",
     "output_type": "stream",
     "text": [
      "157it [00:00, 272.96it/s]\n"
     ]
    },
    {
     "name": "stdout",
     "output_type": "stream",
     "text": [
      "After epoch 17: loss=1.6142 acc=0.8129 val_loss=1.6064 val_acc=0.8040\n",
      "Epoch 17 / 30: FINISHED\n",
      "\n",
      "Epoch 18 / 30: STARTED\n",
      "TRAINING"
     ]
    },
    {
     "name": "stderr",
     "output_type": "stream",
     "text": [
      "938it [00:03, 270.39it/s]\n"
     ]
    },
    {
     "name": "stdout",
     "output_type": "stream",
     "text": [
      "VALIDATION"
     ]
    },
    {
     "name": "stderr",
     "output_type": "stream",
     "text": [
      "157it [00:00, 272.07it/s]\n"
     ]
    },
    {
     "name": "stdout",
     "output_type": "stream",
     "text": [
      "After epoch 18: loss=1.6092 acc=0.8098 val_loss=1.6020 val_acc=0.8032\n",
      "Epoch 18 / 30: FINISHED\n",
      "\n",
      "Epoch 19 / 30: STARTED\n",
      "TRAINING"
     ]
    },
    {
     "name": "stderr",
     "output_type": "stream",
     "text": [
      "938it [00:03, 270.55it/s]\n"
     ]
    },
    {
     "name": "stdout",
     "output_type": "stream",
     "text": [
      "VALIDATION"
     ]
    },
    {
     "name": "stderr",
     "output_type": "stream",
     "text": [
      "157it [00:00, 276.11it/s]\n"
     ]
    },
    {
     "name": "stdout",
     "output_type": "stream",
     "text": [
      "After epoch 19: loss=1.6051 acc=0.8078 val_loss=1.5983 val_acc=0.8032\n",
      "Epoch 19 / 30: FINISHED\n",
      "\n",
      "Epoch 20 / 30: STARTED\n",
      "TRAINING"
     ]
    },
    {
     "name": "stderr",
     "output_type": "stream",
     "text": [
      "938it [00:03, 267.32it/s]\n"
     ]
    },
    {
     "name": "stdout",
     "output_type": "stream",
     "text": [
      "VALIDATION"
     ]
    },
    {
     "name": "stderr",
     "output_type": "stream",
     "text": [
      "157it [00:00, 272.15it/s]\n"
     ]
    },
    {
     "name": "stdout",
     "output_type": "stream",
     "text": [
      "After epoch 20: loss=1.6015 acc=0.8072 val_loss=1.5950 val_acc=0.8035\n",
      "Epoch 20 / 30: FINISHED\n",
      "\n",
      "Epoch 21 / 30: STARTED\n",
      "TRAINING"
     ]
    },
    {
     "name": "stderr",
     "output_type": "stream",
     "text": [
      "938it [00:03, 267.85it/s]\n"
     ]
    },
    {
     "name": "stdout",
     "output_type": "stream",
     "text": [
      "VALIDATION"
     ]
    },
    {
     "name": "stderr",
     "output_type": "stream",
     "text": [
      "157it [00:00, 270.22it/s]\n"
     ]
    },
    {
     "name": "stdout",
     "output_type": "stream",
     "text": [
      "After epoch 21: loss=1.5984 acc=0.8071 val_loss=1.5921 val_acc=0.8052\n",
      "Epoch 21 / 30: FINISHED\n",
      "\n",
      "Epoch 22 / 30: STARTED\n",
      "TRAINING"
     ]
    },
    {
     "name": "stderr",
     "output_type": "stream",
     "text": [
      "938it [00:03, 266.47it/s]\n"
     ]
    },
    {
     "name": "stdout",
     "output_type": "stream",
     "text": [
      "VALIDATION"
     ]
    },
    {
     "name": "stderr",
     "output_type": "stream",
     "text": [
      "157it [00:00, 273.16it/s]\n"
     ]
    },
    {
     "name": "stdout",
     "output_type": "stream",
     "text": [
      "After epoch 22: loss=1.5955 acc=0.8076 val_loss=1.5895 val_acc=0.8064\n",
      "Epoch 22 / 30: FINISHED\n",
      "\n",
      "Epoch 23 / 30: STARTED\n",
      "TRAINING"
     ]
    },
    {
     "name": "stderr",
     "output_type": "stream",
     "text": [
      "938it [00:03, 265.63it/s]\n"
     ]
    },
    {
     "name": "stdout",
     "output_type": "stream",
     "text": [
      "VALIDATION"
     ]
    },
    {
     "name": "stderr",
     "output_type": "stream",
     "text": [
      "157it [00:00, 266.31it/s]\n"
     ]
    },
    {
     "name": "stdout",
     "output_type": "stream",
     "text": [
      "After epoch 23: loss=1.5929 acc=0.8087 val_loss=1.5871 val_acc=0.8086\n",
      "Epoch 23 / 30: FINISHED\n",
      "\n",
      "Epoch 24 / 30: STARTED\n",
      "TRAINING"
     ]
    },
    {
     "name": "stderr",
     "output_type": "stream",
     "text": [
      "938it [00:03, 263.93it/s]\n"
     ]
    },
    {
     "name": "stdout",
     "output_type": "stream",
     "text": [
      "VALIDATION"
     ]
    },
    {
     "name": "stderr",
     "output_type": "stream",
     "text": [
      "157it [00:00, 268.72it/s]\n"
     ]
    },
    {
     "name": "stdout",
     "output_type": "stream",
     "text": [
      "After epoch 24: loss=1.5906 acc=0.8097 val_loss=1.5849 val_acc=0.8096\n",
      "Epoch 24 / 30: FINISHED\n",
      "\n",
      "Epoch 25 / 30: STARTED\n",
      "TRAINING"
     ]
    },
    {
     "name": "stderr",
     "output_type": "stream",
     "text": [
      "938it [00:03, 252.40it/s]\n"
     ]
    },
    {
     "name": "stdout",
     "output_type": "stream",
     "text": [
      "VALIDATION"
     ]
    },
    {
     "name": "stderr",
     "output_type": "stream",
     "text": [
      "157it [00:00, 261.63it/s]\n"
     ]
    },
    {
     "name": "stdout",
     "output_type": "stream",
     "text": [
      "After epoch 25: loss=1.5883 acc=0.8108 val_loss=1.5828 val_acc=0.8118\n",
      "Epoch 25 / 30: FINISHED\n",
      "\n",
      "Epoch 26 / 30: STARTED\n",
      "TRAINING"
     ]
    },
    {
     "name": "stderr",
     "output_type": "stream",
     "text": [
      "938it [00:03, 266.20it/s]\n"
     ]
    },
    {
     "name": "stdout",
     "output_type": "stream",
     "text": [
      "VALIDATION"
     ]
    },
    {
     "name": "stderr",
     "output_type": "stream",
     "text": [
      "157it [00:00, 271.30it/s]\n"
     ]
    },
    {
     "name": "stdout",
     "output_type": "stream",
     "text": [
      "After epoch 26: loss=1.5863 acc=0.8126 val_loss=1.5808 val_acc=0.8143\n",
      "Epoch 26 / 30: FINISHED\n",
      "\n",
      "Epoch 27 / 30: STARTED\n",
      "TRAINING"
     ]
    },
    {
     "name": "stderr",
     "output_type": "stream",
     "text": [
      "938it [00:03, 264.39it/s]\n"
     ]
    },
    {
     "name": "stdout",
     "output_type": "stream",
     "text": [
      "VALIDATION"
     ]
    },
    {
     "name": "stderr",
     "output_type": "stream",
     "text": [
      "157it [00:00, 251.54it/s]\n"
     ]
    },
    {
     "name": "stdout",
     "output_type": "stream",
     "text": [
      "After epoch 27: loss=1.5844 acc=0.8141 val_loss=1.5790 val_acc=0.8161\n",
      "Epoch 27 / 30: FINISHED\n",
      "\n",
      "Epoch 28 / 30: STARTED\n",
      "TRAINING"
     ]
    },
    {
     "name": "stderr",
     "output_type": "stream",
     "text": [
      "938it [00:03, 267.92it/s]\n"
     ]
    },
    {
     "name": "stdout",
     "output_type": "stream",
     "text": [
      "VALIDATION"
     ]
    },
    {
     "name": "stderr",
     "output_type": "stream",
     "text": [
      "157it [00:00, 283.21it/s]\n"
     ]
    },
    {
     "name": "stdout",
     "output_type": "stream",
     "text": [
      "After epoch 28: loss=1.5825 acc=0.8157 val_loss=1.5773 val_acc=0.8180\n",
      "Epoch 28 / 30: FINISHED\n",
      "\n",
      "Epoch 29 / 30: STARTED\n",
      "TRAINING"
     ]
    },
    {
     "name": "stderr",
     "output_type": "stream",
     "text": [
      "938it [00:03, 275.30it/s]\n"
     ]
    },
    {
     "name": "stdout",
     "output_type": "stream",
     "text": [
      "VALIDATION"
     ]
    },
    {
     "name": "stderr",
     "output_type": "stream",
     "text": [
      "157it [00:00, 269.91it/s]\n"
     ]
    },
    {
     "name": "stdout",
     "output_type": "stream",
     "text": [
      "After epoch 29: loss=1.5808 acc=0.8173 val_loss=1.5757 val_acc=0.8195\n",
      "Epoch 29 / 30: FINISHED\n",
      "\n",
      "Epoch 30 / 30: STARTED\n",
      "TRAINING"
     ]
    },
    {
     "name": "stderr",
     "output_type": "stream",
     "text": [
      "938it [00:03, 266.80it/s]\n"
     ]
    },
    {
     "name": "stdout",
     "output_type": "stream",
     "text": [
      "VALIDATION"
     ]
    },
    {
     "name": "stderr",
     "output_type": "stream",
     "text": [
      "157it [00:00, 272.81it/s]"
     ]
    },
    {
     "name": "stdout",
     "output_type": "stream",
     "text": [
      "After epoch 30: loss=1.5792 acc=0.8188 val_loss=1.5741 val_acc=0.8209\n",
      "Epoch 30 / 30: FINISHED\n",
      "\n"
     ]
    },
    {
     "name": "stderr",
     "output_type": "stream",
     "text": [
      "\n"
     ]
    }
   ],
   "source": [
    "class NeuralNetwork(nn.Module):\n",
    "    def __init__(self, \n",
    "                 input_shape=(1,28,28), \n",
    "                 num_of_classes=10,\n",
    "                 hidden_1_size = 1024,\n",
    "                 hidden_2_size = 1024,\n",
    "                 ) -> None:\n",
    "        super().__init__()\n",
    "        input_len = torch.prod(torch.tensor(input_shape))\n",
    "        self.flatten = nn.Flatten()\n",
    "        self.hidden_1 = nn.Linear(input_len, hidden_1_size)\n",
    "        self.hidden_2 = nn.Linear(hidden_1_size, hidden_2_size)\n",
    "        self.last_layer = nn.Linear(hidden_2_size, num_of_classes)\n",
    "        self.relu = nn.ReLU()\n",
    "        self.sigm = nn.Sigmoid()\n",
    "        \n",
    "        \n",
    "    def forward(self, x: torch.Tensor) -> torch.Tensor:\n",
    "        x = self.flatten(x)\n",
    "        x = self.hidden_1(x)\n",
    "        x = self.sigm(x)\n",
    "        x = self.hidden_2(x)\n",
    "        x = self.sigm(x)\n",
    "        x = self.last_layer(x)\n",
    "        x = self.sigm(x)\n",
    "        \n",
    "        return x\n",
    "\n",
    "\n",
    "set_random_seed(0)\n",
    "net = NeuralNetwork().to(device)\n",
    "net_param_number = lu.count_params(net)\n",
    "print(f\"Network paramerters number: {net_param_number}\")\n",
    "\n",
    "set_random_seed(0)\n",
    "metric = lu.AccuracyMetic()\n",
    "criterion = torch.nn.CrossEntropyLoss()\n",
    "optimizer = torch.optim.SGD(net.parameters(), lr=0.1)\n",
    "\n",
    "set_random_seed(0)\n",
    "net, history = lu.training(net, train_loader, test_loader, criterion, metric, optimizer, 5, 30, device=device)"
   ]
  },
  {
   "cell_type": "markdown",
   "metadata": {},
   "source": [
    "1. Extract state dict (and name it - `sd`) from trained model.\n",
    "\n",
    "Create second dictionary `sd_2` and fill it with copies of parameters from extracted state dictionary.\n",
    "\n",
    "Print parameters names, shapes and statistics: min, max, std, mean for each parameter."
   ]
  },
  {
   "cell_type": "code",
   "execution_count": 4,
   "metadata": {},
   "outputs": [
    {
     "name": "stdout",
     "output_type": "stream",
     "text": [
      "hidden_1.weight, torch.Size([1024, 784]), min=-0.17751307785511017, max=0.18090690672397614, mean=-0.00022693403298035264, var=0.0007318296120502055, std=0.027052350342273712\n",
      "hidden_1.bias, torch.Size([1024]), min=-0.06644146889448166, max=0.07040654122829437, mean=-0.0011242736363783479, var=0.000566539412830025, std=0.02380208857357502\n",
      "hidden_2.weight, torch.Size([1024, 1024]), min=-0.11891487240791321, max=0.12396501749753952, mean=-0.0006517586298286915, var=0.0005572724621742964, std=0.023606618866324425\n",
      "hidden_2.bias, torch.Size([1024]), min=-0.03590383008122444, max=0.03526987507939339, mean=-0.00011114070366602391, var=0.0003205725515726954, std=0.01790454052388668\n",
      "last_layer.weight, torch.Size([10, 1024]), min=-0.49845197796821594, max=0.4577457904815674, mean=-0.026112252846360207, var=0.020633583888411522, std=0.14364394545555115\n",
      "last_layer.bias, torch.Size([10]), min=-0.09622375667095184, max=-0.006978764198720455, mean=-0.03891773894429207, var=0.0007154582417570055, std=0.026748051866889\n"
     ]
    }
   ],
   "source": [
    "sd = {\"model\" : net.state_dict(), \"opt\" : optimizer.state_dict()}\n",
    "\n",
    "sd_2 = sd\n",
    "\n",
    "for name, tensor in sd[\"model\"].items():\n",
    "    print(f\"{name}, {tensor.size()}, min={torch.min(tensor)}, max={torch.max(tensor)}, mean={torch.mean(tensor)}, var={torch.var(tensor)}, std={torch.std(tensor)}\")\n"
   ]
  },
  {
   "cell_type": "markdown",
   "metadata": {},
   "source": [
    "2. Define a function `get_mask`, which takes arguments:\n",
    "    - `parameter` - tensor of weights\n",
    "    - `threshold` - threashold of filters (weights for single out channel) corelation\n",
    "\n",
    "Function shoud:\n",
    "1) standardize each row by it's mean and standard deviation and small value epsilon = 1e-6.\n",
    "    - this step is not necessary, you can try different version: with and without standardization \n",
    "2) normalize each row by it's Euclidian norm.\n",
    "3) calculate corelation matrix between filters (rows):\n",
    "    - `torch.matmul`\n",
    "    - `torch.transpose`\n",
    "4) threshold absolute corelation matrix with given parameter `threshold`\n",
    "5) create mask of matrix elements where coloumn idx is higher than row idx - over diagonal matrix.\n",
    "    - `torch.meshgrid`\n",
    "6) create mask of intersection of both masks from 4) and 5)\n",
    "7) crete mask of columns where there are only zero elements.\n",
    "8) return mask as mask of filters to leave untouched (True) and fileter to remove (False).\n"
   ]
  },
  {
   "cell_type": "code",
   "execution_count": 70,
   "metadata": {},
   "outputs": [],
   "source": [
    "from torch.nn.functional import normalize\n",
    "\n",
    "def get_mask(parameter: torch.Tensor, threshold: float):\n",
    "    \n",
    "    parameter = normalize(parameter)\n",
    "\n",
    "    corr = torch.matmul(parameter, torch.transpose(parameter, 0, 1))\n",
    "\n",
    "    corr_mask = corr.abs() > threshold\n",
    "\n",
    "    row_idx, col_idx = torch.meshgrid(torch.arange(0,corr.shape[0]), torch.arange(0,corr.shape[0]),)\n",
    "\n",
    "    analysis_mask = col_idx > row_idx\n",
    "\n",
    "    filters_correlation = corr_mask * analysis_mask.to(parameter.device)\n",
    "\n",
    "    channels_mask = filters_correlation.sum(0) == 0\n",
    "\n",
    "    return channels_mask\n"
   ]
  },
  {
   "cell_type": "markdown",
   "metadata": {},
   "source": [
    "3. Calculate masks for both hidden weights from `sd` dict.\n",
    "\n",
    "Hint: work on copy of weights - `torch.Tensor.clone` "
   ]
  },
  {
   "cell_type": "code",
   "execution_count": 78,
   "metadata": {},
   "outputs": [],
   "source": [
    "h1 = torch.Tensor.clone(list(sd[\"model\"].items())[0][1])\n",
    "h2 =torch.Tensor.clone(list(sd[\"model\"].items())[0][2])\n",
    "\n",
    "\n",
    "h1_mask = get_mask(h1, 0.5)\n",
    "h2_mask = get_mask(h2, 0.5)\n"
   ]
  },
  {
   "cell_type": "markdown",
   "metadata": {},
   "source": [
    "4. Slice weights of hidden layers based on created masks.\n",
    "\n",
    "Resulted weights assign to proper weight in `sd_2`.\n",
    "\n",
    "Print shapes of weights.\n",
    "\n",
    "Note: Prunning of channels one layer affects to next one layer, but not to the previous layer.\n",
    "\n",
    "Note: first layer must contain the same number of input channels.\n",
    " \n",
    "Note: last layer must contain the same number of output channels.\n",
    "\n",
    "Hint: For slicing on few dimensions, use it separately on results of previous dim slice.\n",
    " "
   ]
  },
  {
   "cell_type": "code",
   "execution_count": 114,
   "metadata": {},
   "outputs": [
    {
     "name": "stdout",
     "output_type": "stream",
     "text": [
      "torch.Size([1021, 784])\n",
      "torch.Size([883, 1021])\n",
      "torch.Size([10, 883])\n"
     ]
    }
   ],
   "source": []
  },
  {
   "cell_type": "markdown",
   "metadata": {},
   "source": [
    "5. Bias prunning: slice biases of hidden layers with layers masks.\n",
    "\n",
    "Note: bias is related with layer output channel."
   ]
  },
  {
   "cell_type": "code",
   "execution_count": 115,
   "metadata": {},
   "outputs": [
    {
     "name": "stdout",
     "output_type": "stream",
     "text": [
      "torch.Size([1021])\n",
      "torch.Size([883])\n"
     ]
    }
   ],
   "source": []
  },
  {
   "cell_type": "markdown",
   "metadata": {},
   "source": [
    "6. Instiante second `NeuralNetwork` with hidden size defined by proper mask size.\n",
    "\n",
    "Initialize network with `sd_2`.\n",
    "\n",
    "Print number of parameters."
   ]
  },
  {
   "cell_type": "code",
   "execution_count": 118,
   "metadata": {},
   "outputs": [
    {
     "data": {
      "text/plain": [
       "1712751"
      ]
     },
     "execution_count": 118,
     "metadata": {},
     "output_type": "execute_result"
    }
   ],
   "source": []
  },
  {
   "cell_type": "markdown",
   "metadata": {},
   "source": [
    "7. Calculate accuracy and loss for training and validation datasets.\n",
    "\n",
    "P.S. \n",
    "```\n",
    "lu.train_test_pass:\n",
    "\n",
    "optimizer=None,\n",
    "update_period=None,\n",
    "mode='test',\n",
    "device=device\n",
    "```"
   ]
  },
  {
   "cell_type": "code",
   "execution_count": 120,
   "metadata": {},
   "outputs": [
    {
     "name": "stderr",
     "output_type": "stream",
     "text": [
      "938it [00:08, 115.13it/s]\n"
     ]
    },
    {
     "name": "stdout",
     "output_type": "stream",
     "text": [
      "1.620261589050293 0.8059166666666666\n"
     ]
    },
    {
     "name": "stderr",
     "output_type": "stream",
     "text": [
      "157it [00:01, 117.53it/s]"
     ]
    },
    {
     "name": "stdout",
     "output_type": "stream",
     "text": [
      "1.6104534406661988 0.8123\n"
     ]
    },
    {
     "name": "stderr",
     "output_type": "stream",
     "text": [
      "\n"
     ]
    }
   ],
   "source": []
  },
  {
   "cell_type": "markdown",
   "metadata": {},
   "source": [
    "8. *Aditional: Try 5 different thresholds for `get_mask` function.\n",
    "\n",
    "Print resulted sizes."
   ]
  },
  {
   "cell_type": "code",
   "execution_count": null,
   "metadata": {},
   "outputs": [],
   "source": []
  },
  {
   "cell_type": "markdown",
   "metadata": {},
   "source": [
    "9. **Additional: Fine tune pruned model (`net_2`) - train it."
   ]
  },
  {
   "cell_type": "code",
   "execution_count": null,
   "metadata": {},
   "outputs": [],
   "source": []
  },
  {
   "cell_type": "markdown",
   "metadata": {},
   "source": [
    "6. You can leave a feedback, if you want :)"
   ]
  },
  {
   "cell_type": "markdown",
   "metadata": {},
   "source": []
  },
  {
   "cell_type": "markdown",
   "metadata": {},
   "source": [
    "7. Exercises please upload this file (*.ipynb) to UPEL."
   ]
  },
  {
   "cell_type": "markdown",
   "metadata": {},
   "source": []
  }
 ],
 "metadata": {
  "kernelspec": {
   "display_name": "Python 3.8.8 ('base')",
   "language": "python",
   "name": "python3"
  },
  "language_info": {
   "codemirror_mode": {
    "name": "ipython",
    "version": 3
   },
   "file_extension": ".py",
   "mimetype": "text/x-python",
   "name": "python",
   "nbconvert_exporter": "python",
   "pygments_lexer": "ipython3",
   "version": "3.8.8"
  },
  "orig_nbformat": 4,
  "vscode": {
   "interpreter": {
    "hash": "5f8983bddda93f81dfa77202df1e7f4d1cde96e239aa7ad80697fb7e3c19a16c"
   }
  }
 },
 "nbformat": 4,
 "nbformat_minor": 2
}
